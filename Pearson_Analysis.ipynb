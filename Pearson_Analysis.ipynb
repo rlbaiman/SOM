{
 "cells": [
  {
   "cell_type": "code",
   "execution_count": 1,
   "metadata": {},
   "outputs": [],
   "source": [
    "import cartopy.crs as ccrs\n",
    "import cartopy.feature as cfeature\n",
    "import matplotlib.path as mpath\n",
    "import matplotlib.pyplot as plt\n",
    "import numpy as np\n",
    "from numpy import savetxt\n",
    "import xarray as xr\n",
    "import os\n",
    "import csv\n",
    "import scipy\n",
    "import pandas as pd\n",
    "import matplotlib.colors\n",
    "from matplotlib import cm\n",
    "import netCDF4\n",
    "from netCDF4 import Dataset\n",
    "import scipy\n",
    "from scipy.stats import pearsonr\n"
   ]
  },
  {
   "cell_type": "markdown",
   "metadata": {},
   "source": [
    "<h3> Read in relevant data"
   ]
  },
  {
   "cell_type": "code",
   "execution_count": 21,
   "metadata": {},
   "outputs": [],
   "source": [
    "timestep_data = pd.read_csv('SOM_example_data.csv', index_col = False)\n",
    "node_data = pd.read_csv('example_nodes.csv', index_col = False)\n",
    "node_data = node_data[node_data.columns[1:]].to_numpy()\n",
    "node_assignments = pd.read_csv(\"example_node_assignments.csv\")['x'].to_numpy()"
   ]
  },
  {
   "cell_type": "markdown",
   "metadata": {},
   "source": [
    "<h3> Read in node results from csv file.\n"
   ]
  },
  {
   "cell_type": "code",
   "execution_count": 24,
   "metadata": {},
   "outputs": [],
   "source": [
    "#grab the correct latitudes from the .nc file\n",
    "spatial_file = xr.open_mfdataset('SOM_example_data.nc4')\n",
    "lats = np.array(spatial_file.lat)"
   ]
  },
  {
   "cell_type": "markdown",
   "metadata": {},
   "source": [
    "<h1>Plot Histogram of Pearson Correlation For All Nodes\n"
   ]
  },
  {
   "cell_type": "code",
   "execution_count": 31,
   "metadata": {},
   "outputs": [],
   "source": [
    "timesteps = len(node_assignments)\n",
    "\n",
    "correlations=np.empty(timesteps, dtype=float)\n",
    "pvalues=np.empty(timesteps, dtype=float)\n",
    "for j in range(timesteps):\n",
    "    r,p=pearsonr(node_data[node_assignments[j]-1],timestep_data.iloc[j])\n",
    "    correlations[j]=r\n",
    "    pvalues[j]=p"
   ]
  },
  {
   "cell_type": "code",
   "execution_count": 32,
   "metadata": {},
   "outputs": [
    {
     "data": {
      "image/png": "[encoded data removed]",
      "text/plain": [
       "<Figure size 432x288 with 1 Axes>"
      ]
     },
     "metadata": {
      "needs_background": "light"
     },
     "output_type": "display_data"
    }
   ],
   "source": [
    "\n",
    "###make histogram of correlations!!!\n",
    "bins1=np.linspace(-.5,1,76)\n",
    "bins2=np.linspace(.5,1,26)\n",
    "plt.hist(correlations,bins=bins1, color='orange')\n",
    "plt.hist(correlations[correlations>=.5], bins=bins2,color='Blue')\n",
    "\n",
    "correlations_pd=pd.DataFrame(correlations)\n",
    "sig_correlations=correlations_pd.loc[correlations_pd[0]>=.5]\n",
    "dec=len(sig_correlations)/len(correlations)\n",
    "perc=\"{:.2%}\".format(dec)\n",
    "\n",
    "plt.suptitle('Pearson Correlation Coefficients')\n",
    "plt.title(('Percentage with significant correlation:'+str(perc)),color='Blue');\n",
    "\n",
    "\n",
    "# plt.savefig('example_pearson_figure.pdf')\n",
    "\n"
   ]
  },
  {
   "cell_type": "code",
   "execution_count": 33,
   "metadata": {},
   "outputs": [
    {
     "name": "stdout",
     "output_type": "stream",
     "text": [
      "% of Pearson coefficients above .5:\n"
     ]
    },
    {
     "data": {
      "text/plain": [
       "0.9064837905236908"
      ]
     },
     "execution_count": 33,
     "metadata": {},
     "output_type": "execute_result"
    }
   ],
   "source": [
    "correlations_pd=pd.DataFrame(correlations)\n",
    "sig_correlations=correlations_pd.loc[correlations_pd[0]>=.5]\n",
    "print('% of Pearson coefficients above .5:')\n",
    "len(sig_correlations)/len(correlations)"
   ]
  },
  {
   "cell_type": "code",
   "execution_count": 40,
   "metadata": {},
   "outputs": [
    {
     "name": "stdout",
     "output_type": "stream",
     "text": [
      "% of signficant Pearson coefficients:\n"
     ]
    },
    {
     "data": {
      "text/plain": [
       "0.9987531172069826"
      ]
     },
     "execution_count": 40,
     "metadata": {},
     "output_type": "execute_result"
    }
   ],
   "source": [
    "pvalues_pd=pd.DataFrame(pvalues)\n",
    "sig_pvalues=pvalues_pd.loc[pvalues_pd[0]<=.05]\n",
    "print('% of signficant Pearson coefficients:')\n",
    "len(sig_pvalues)/len(pvalues)"
   ]
  },
  {
   "cell_type": "markdown",
   "metadata": {},
   "source": [
    "<h1>Plot Histogram of Pearson Correlation For Individual Node"
   ]
  },
  {
   "cell_type": "code",
   "execution_count": 68,
   "metadata": {},
   "outputs": [
    {
     "data": {
      "image/png": "[encoded data removed]",
      "text/plain": [
       "<Figure size 432x288 with 1 Axes>"
      ]
     },
     "metadata": {
      "needs_background": "light"
     },
     "output_type": "display_data"
    }
   ],
   "source": [
    "n = 14\n",
    "index=np.where(node_assignments == n)[0].tolist()\n",
    "node=node_data[n-1]\n",
    "timesteps_mapped_to_node = timestep_data.iloc[index]\n",
    "\n",
    "correlations=np.empty(len(index), dtype=float)\n",
    "pvalues=np.empty(len(index), dtype=float)\n",
    "for i in range(len(index)):\n",
    "    r,p=pearsonr(node,timesteps_mapped_to_node.iloc[i])\n",
    "    correlations[i]=r\n",
    "    pvalues[i]=p\n",
    "\n",
    "\n",
    "###make histogram of correlations\n",
    "bins1=np.linspace(-.5,1,76)\n",
    "bins2=np.linspace(.5,1,26)\n",
    "plt.hist(correlations,bins=bins1, color='orange')\n",
    "plt.hist(correlations[correlations>=.5], bins=bins2,color='Blue')\n",
    "\n",
    "correlations_pd=pd.DataFrame(correlations)\n",
    "sig_correlations=correlations_pd.loc[correlations_pd[0]>=.5]\n",
    "dec=len(sig_correlations)/len(correlations)\n",
    "perc=\"{:.2%}\".format(dec)\n",
    "\n",
    "plt.suptitle('Pearson Correlation Coefficients for node '+str(n))\n",
    "plt.title(('Percentage with significant correlation:'+str(perc)),color='Blue');\n",
    "\n",
    "\n",
    "# plt.savefig('example_pearson_figure_node'+str(n)+'.pdf')\n"
   ]
  }
 ],
 "metadata": {
  "kernelspec": {
   "display_name": "research",
   "language": "python",
   "name": "research"
  },
  "language_info": {
   "codemirror_mode": {
    "name": "ipython",
    "version": 3
   },
   "file_extension": ".py",
   "mimetype": "text/x-python",
   "name": "python",
   "nbconvert_exporter": "python",
   "pygments_lexer": "ipython3",
   "version": "3.7.8"
  }
 },
 "nbformat": 4,
 "nbformat_minor": 4
}
